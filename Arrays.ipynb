{
 "cells": [
  {
   "cell_type": "code",
   "execution_count": 26,
   "id": "2901ba39-5381-4eae-bfec-4404ed070d18",
   "metadata": {},
   "outputs": [],
   "source": [
    "import numpy as np\n",
    "import matplotlib.pyplot as plt\n"
   ]
  },
  {
   "cell_type": "code",
   "execution_count": 6,
   "id": "b6d4c336-f32e-418e-b9dc-2676425949c0",
   "metadata": {},
   "outputs": [
    {
     "data": {
      "text/plain": [
       "array([[0, 1, 2, 3, 4],\n",
       "       [5, 6, 7, 8, 9]])"
      ]
     },
     "execution_count": 6,
     "metadata": {},
     "output_type": "execute_result"
    }
   ],
   "source": [
    "\n",
    "matrix = np.arange(10).reshape((2,5))\n",
    "matrix"
   ]
  },
  {
   "cell_type": "code",
   "execution_count": 8,
   "id": "4ef592fe-c61b-4bbc-a7e0-85ceed82c958",
   "metadata": {},
   "outputs": [
    {
     "data": {
      "text/plain": [
       "dtype('int64')"
      ]
     },
     "execution_count": 8,
     "metadata": {},
     "output_type": "execute_result"
    }
   ],
   "source": [
    "matrix.dtype"
   ]
  },
  {
   "cell_type": "code",
   "execution_count": 7,
   "id": "903e8a70-ca6b-4d3b-b32e-46df5dfe9036",
   "metadata": {},
   "outputs": [
    {
     "data": {
      "text/plain": [
       "(2, 5)"
      ]
     },
     "execution_count": 7,
     "metadata": {},
     "output_type": "execute_result"
    }
   ],
   "source": [
    "matrix.shape"
   ]
  },
  {
   "cell_type": "code",
   "execution_count": 9,
   "id": "98135e6c-e87b-44e1-a217-7fda252485ce",
   "metadata": {},
   "outputs": [
    {
     "data": {
      "text/plain": [
       "array([0, 1, 2, 3, 4, 5, 6, 7])"
      ]
     },
     "execution_count": 9,
     "metadata": {},
     "output_type": "execute_result"
    }
   ],
   "source": [
    "array = np.arange(8)\n",
    "array"
   ]
  },
  {
   "cell_type": "code",
   "execution_count": 12,
   "id": "7ddf12c1-18d3-42f4-9cb0-b0cd19b5abba",
   "metadata": {},
   "outputs": [
    {
     "data": {
      "text/plain": [
       "array([[0, 1, 2, 3, 4],\n",
       "       [5, 6, 7, 8, 9]])"
      ]
     },
     "execution_count": 12,
     "metadata": {},
     "output_type": "execute_result"
    }
   ],
   "source": [
    "matrix = np.arange(10).reshape((2,-1))\n",
    "matrix"
   ]
  },
  {
   "cell_type": "code",
   "execution_count": null,
   "id": "0ab6f770-1ed9-4e43-bde2-cb34c96e9d49",
   "metadata": {},
   "outputs": [],
   "source": []
  },
  {
   "cell_type": "code",
   "execution_count": 14,
   "id": "3efe81b9-9563-44a3-bc34-a1d985be8c6a",
   "metadata": {},
   "outputs": [
    {
     "data": {
      "text/plain": [
       "array([[[0.75913116, 0.27929952, 0.88430908, 0.86211635, 0.96934296],\n",
       "        [0.4171302 , 0.15056688, 0.81663883, 0.76940481, 0.02711365],\n",
       "        [0.08986583, 0.09720865, 0.14716142, 0.05469031, 0.8471958 ]],\n",
       "\n",
       "       [[0.47020807, 0.68097584, 0.62000594, 0.07887443, 0.42862061],\n",
       "        [0.9625951 , 0.11604438, 0.53312752, 0.91213823, 0.06448267],\n",
       "        [0.50791503, 0.19070109, 0.12782804, 0.11462732, 0.76295077]],\n",
       "\n",
       "       [[0.2017457 , 0.14589004, 0.21298926, 0.81731341, 0.66088725],\n",
       "        [0.68898905, 0.66622063, 0.9221452 , 0.61523071, 0.84395757],\n",
       "        [0.39122969, 0.89776788, 0.11108825, 0.54829283, 0.1133678 ]]])"
      ]
     },
     "execution_count": 14,
     "metadata": {},
     "output_type": "execute_result"
    }
   ],
   "source": [
    "array3d = np.random.uniform(0., 1., (3,3,5))\n",
    "array3d"
   ]
  },
  {
   "cell_type": "markdown",
   "id": "512b513a-8162-4cef-9fb3-4a17380e86d0",
   "metadata": {},
   "source": [
    "# INDICIZZAZIONE array"
   ]
  },
  {
   "cell_type": "code",
   "execution_count": 16,
   "id": "f9a75d99-ed48-4fd2-8397-105422e2ee6e",
   "metadata": {},
   "outputs": [
    {
     "data": {
      "text/plain": [
       "np.int64(4)"
      ]
     },
     "execution_count": 16,
     "metadata": {},
     "output_type": "execute_result"
    }
   ],
   "source": [
    "array1d = np.arange(8)\n",
    "array1d\n",
    "\n",
    "array1d[4]"
   ]
  },
  {
   "cell_type": "code",
   "execution_count": 17,
   "id": "0335ea62-d6c0-43a1-a141-52aaa232755e",
   "metadata": {},
   "outputs": [
    {
     "data": {
      "text/plain": [
       "array([4, 5, 6])"
      ]
     },
     "execution_count": 17,
     "metadata": {},
     "output_type": "execute_result"
    }
   ],
   "source": [
    "array1d[4:7] #Slicing"
   ]
  },
  {
   "cell_type": "code",
   "execution_count": 18,
   "id": "b4bf900a-bdb6-4068-b93d-64ef80a4d529",
   "metadata": {},
   "outputs": [
    {
     "data": {
      "text/plain": [
       "array([ 0,  1, 99,  3, 99,  5, 99,  7])"
      ]
     },
     "execution_count": 18,
     "metadata": {},
     "output_type": "execute_result"
    }
   ],
   "source": [
    "array1d[2:7:2] = 99 #Broadcast\n",
    "array1d"
   ]
  },
  {
   "cell_type": "markdown",
   "id": "77bc583e-9646-4016-881d-c8b82fa6e688",
   "metadata": {},
   "source": [
    "## Indicizzazione booleana"
   ]
  },
  {
   "cell_type": "code",
   "execution_count": 23,
   "id": "9bf341a1-88bf-40e7-94aa-420fe5f05f0c",
   "metadata": {},
   "outputs": [
    {
     "name": "stdout",
     "output_type": "stream",
     "text": [
      "[   0    1 1000    3 1000    5 1000    7]\n"
     ]
    },
    {
     "data": {
      "text/plain": [
       "array([   0,    1, 1000,    3, 1000,    5, 1000,    7])"
      ]
     },
     "execution_count": 23,
     "metadata": {},
     "output_type": "execute_result"
    }
   ],
   "source": [
    "#array di booleani possono essre usati come indici\n",
    "print(array1d)\n",
    "boolIndex = array1d == 99\n",
    "array1d[boolIndex] = 1000\n",
    "array1d"
   ]
  },
  {
   "cell_type": "code",
   "execution_count": 25,
   "id": "2a75d9d8-886c-457e-92b6-750829c55f1e",
   "metadata": {},
   "outputs": [
    {
     "data": {
      "text/plain": [
       "array([[1., 1., 1., 1., 1., 1., 1., 1., 1., 1.],\n",
       "       [1., 1., 1., 1., 1., 1., 1., 1., 1., 1.],\n",
       "       [1., 1., 1., 1., 1., 1., 1., 1., 1., 1.],\n",
       "       [1., 1., 1., 1., 1., 1., 1., 1., 1., 1.],\n",
       "       [1., 1., 1., 1., 1., 1., 1., 1., 1., 1.],\n",
       "       [1., 1., 1., 1., 1., 1., 1., 1., 1., 1.],\n",
       "       [1., 1., 1., 1., 1., 1., 1., 1., 1., 1.],\n",
       "       [1., 1., 1., 1., 1., 1., 1., 1., 1., 1.],\n",
       "       [1., 1., 1., 1., 1., 1., 1., 1., 1., 1.],\n",
       "       [1., 1., 1., 1., 1., 1., 1., 1., 1., 1.]])"
      ]
     },
     "execution_count": 25,
     "metadata": {},
     "output_type": "execute_result"
    }
   ],
   "source": [
    "matrixOnes = np.ones((10, 10))\n",
    "matrixOnes"
   ]
  },
  {
   "cell_type": "code",
   "execution_count": 29,
   "id": "9d426d22-eac2-4a63-bcf4-623559afa644",
   "metadata": {},
   "outputs": [
    {
     "data": {
      "text/plain": [
       "<matplotlib.image.AxesImage at 0x1133ea951d0>"
      ]
     },
     "execution_count": 29,
     "metadata": {},
     "output_type": "execute_result"
    },
    {
     "data": {
      "image/png": "[encoded data removed]",
      "text/plain": [
       "<Figure size 640x480 with 1 Axes>"
      ]
     },
     "metadata": {},
     "output_type": "display_data"
    }
   ],
   "source": [
    "matrixOnes[::2] = 0\n",
    "plt.imshow(matrixOnes, cmap=\"Greys\")"
   ]
  },
  {
   "cell_type": "code",
   "execution_count": 74,
   "id": "3883a828-24ce-45fe-b751-ce9c3bcefada",
   "metadata": {},
   "outputs": [
    {
     "name": "stdout",
     "output_type": "stream",
     "text": [
      "[[0. 1. 0. 1. 0. 1. 0. 1.]\n",
      " [1. 0. 1. 0. 1. 0. 1. 0.]\n",
      " [0. 1. 0. 1. 0. 1. 0. 1.]\n",
      " [1. 0. 1. 0. 1. 0. 1. 0.]\n",
      " [0. 1. 0. 1. 0. 1. 0. 1.]\n",
      " [1. 0. 1. 0. 1. 0. 1. 0.]\n",
      " [0. 1. 0. 1. 0. 1. 0. 1.]\n",
      " [1. 0. 1. 0. 1. 0. 1. 0.]]\n"
     ]
    },
    {
     "data": {
      "text/plain": [
       "<matplotlib.image.AxesImage at 0x113437fde50>"
      ]
     },
     "execution_count": 74,
     "metadata": {},
     "output_type": "execute_result"
    },
    {
     "data": {
      "image/png": "[encoded data removed]",
      "text/plain": [
       "<Figure size 640x480 with 1 Axes>"
      ]
     },
     "metadata": {},
     "output_type": "display_data"
    }
   ],
   "source": [
    "matrixOnes = np.ones((8,8))\n",
    "matrixOnes[::2, ::2] = 0\n",
    "matrixOnes[1::2, 1::2] = 0\n",
    "print(matrixOnes)\n",
    "plt.imshow(matrixOnes)"
   ]
  },
  {
   "cell_type": "code",
   "execution_count": null,
   "id": "4f110315-650f-4fda-819d-3264199d4f15",
   "metadata": {},
   "outputs": [],
   "source": []
  }
 ],
 "metadata": {
  "kernelspec": {
   "display_name": "Python [conda env:base] *",
   "language": "python",
   "name": "conda-base-py"
  },
  "language_info": {
   "codemirror_mode": {
    "name": "ipython",
    "version": 3
   },
   "file_extension": ".py",
   "mimetype": "text/x-python",
   "name": "python",
   "nbconvert_exporter": "python",
   "pygments_lexer": "ipython3",
   "version": "3.13.5"
  }
 },
 "nbformat": 4,
 "nbformat_minor": 5
}
