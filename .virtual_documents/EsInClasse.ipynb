nums = [1, 2, 3, 4, 5]
list = [x**2 for x in nums if x % 2 != 0]
print(list)


a = [15,2,4]
b = a
b.append(5)
print(a)

x = [4,2,6]
y = x.copy()
y.append(65)
print(x)


def fattoriale(n):
    if n <= 1:
        return 1
    else:
        return n * fattoriale(n-1)

print(fattoriale(5))


import this


import antigravity




