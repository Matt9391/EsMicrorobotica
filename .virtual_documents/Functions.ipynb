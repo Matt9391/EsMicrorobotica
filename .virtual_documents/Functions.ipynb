import numpy as np
import matplotlib.pyplot as plt





def gaussianaSemplice(x):
    return np.exp(-x**2)

#Generare un array di valori equispaziati in un itervallo
x = np.linspace(-10., 10., 1000)
y = gaussianaSemplice(x)

plt.plot(x,y)



#fig è la tela su cui scrive il grafico
# ax sono gli assi di un grafico posto sulla figure
fig, ax = plt.subplots(figsize = (5,5)) #Figsize = dimensioni in pollicci di git
ax.plot(x,y,color="blue", linewidth= 2, label=r"$f(x) = e^{-x^2}$")
ax.set_facecolor("#ca0")
ax.set_title("Grafico")
ax.legend()

ax.set_xlabel("x")
ax.set_ylabel("y")
ax.grid()

fig.set_facecolor("#Fa0")
plt.show()














### +++x = np.linspace(0.,5,1000)
# np.log(x) #ln in base e
fig, ax = plt.subplots(figsize = (5,5)) #Figsize = dimensioni in pollicci di git

f = lambda x : np.sin(x)/x
g = lambda x : np.cos(x)

fx = np.linspace(-4 * np.pi, 4 * np.pi, 1000)
fy = f(fx)
gx = np.linspace(-4 * np.pi, 4 * np.pi, 1000)
gy = g(gx)

ax.plot(fx,fy,color="red", linewidth= 1, label=r"$f(x) = \frac{sin(x)}{x}$")
ax.plot(gx,gy,color="blue", linewidth= 1, label=r"$f(x) = \cos(x)$")

ax.set_facecolor("#eee")

fig.set_facecolor("#ccc")
ax.legend()
ax.set_xlabel("x")
ax.set_ylabel("y")
ax.grid()








x = np.array([1,2,3,4,5,6,7])
np.mean(x)
np.std(x)
np.sum(x)
#somma cumulativa, array lungo come quello di partenza
np.cumsum(x)
np.prod(x)
np.min(x)
np.max(x)
np.argmin(x) #indice valore minimo
np.argmax(x) #indice valore max





indices = np.arange(0, len(x))
np.min(indices[x == np.max(x)])





np.roll(x,3) #shifta gli elemement a destra di n posizioni





x = np.array([2,4,2,6,3,7,2,1,6])
x = np.array([1,2,3,4,5,6,7,8])
check = x[2:] > np.roll(x,1)[2:]
print(check)
length = np.count_nonzero(check)
print(length)
if length == (len(x) - 2):
    print("good")
else:
    print("no good")

#usare np.all(x) fa una and tra tutti gli elementi, se tutti true da true sennò false





