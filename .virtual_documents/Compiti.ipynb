import numpy as np
import matplotlib.pyplot as plt



#Es 1
array = np.ndarray(5)
arrayInv = array[::-1]
print(array)
print(arrayInv)


#Es 2

n = 100

array = np.ones(n, dtype=bool)
array[:2] = False #imposto a false i primi 2 numeri perché non primi
for i in range(2, int(n**0.5) + 1):
    if array[i]:
            # parti dal prossimo multiplo e scorri fino alla fine
            # e a ogni passo di "i" cioè il numero primo attuale, quindi un multiplo lo togli
            array[i*i : n : i] = False
array = np.nonzero(array)[0]
print(array)




#Es 6
matrixOnes = np.ones((8,8))
matrixOnes[::2, ::2] = 0
matrixOnes[1::2, 1::2] = 0
print(matrixOnes)
plt.imshow(matrixOnes)


#Es 7
matrixOnes = np.ones((10,10))
# for i in range(1,2):
    # matrixOnes[i:-i:, i:-i:2] = 0
"""
# left right up down
matrixOnes[::, :1:] =  0 #0:-0:1,  0: 1:1 
matrixOnes[::, -1::] = 0 #0:-0:1, -1:-0:1
matrixOnes[:1:, ::] =  0 #0: 1:1,  0:-0:1 
matrixOnes[-1::, ::] = 0 #-1:-0:1, 0:-0:1

# left right up down
matrixOnes[2:-2:, 2:3:] = 0   #2:-2:1, 2:3:1
matrixOnes[2:-2:, -3:-2:] = 0 #2:-2:1, -3:-2:1
matrixOnes[2:3:, 2:-3:] = 0
matrixOnes[-3:-2:, 2:-3:] = 0

# center
matrixOnes[4:-4:, 4:5:] = 0 # 4:-4:1, 4:5:1
matrixOnes[4:-4:, 5:6:] = 0 # 4:-4:1, -5:-4:1
"""
for i in range(0,5,2):
    matrixOnes[i:-i:1, i:i+1:1] = 0

for i in range(1,6,2):
    matrixOnes[i:-i:1, -i:-(i-1):1] = 0

# matrixOnes[5:6:, 4:6:] = 0
# matrixOnes[::2, 1:9:] = 0
    # matrixOnes[i::1, 10-i:] = 0
print(matrixOnes)
plt.imshow(matrixOnes)



#Es 3 p 107
num = 0
for i in range(10000):
    array = np.random.choice([True, False], 1000)
    #True = croce, False = testa
    if np.count_nonzero(array) > (0.55 * 1000):
        num += 1
print(num)







