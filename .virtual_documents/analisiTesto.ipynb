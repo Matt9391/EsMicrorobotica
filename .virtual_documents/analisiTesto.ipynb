








import random


#Caricamento Input
file = open("./sei_personaggi_in_cerca_dautore_Luigi_Pirandello.txt", encoding = "utf-8")
text = file.read()


#Pre-processing
text = text.replace("\n", " ").lower()
text = text.replace("  ", " ")


# i nostri token sono sempre un carattere
l_context = 4
markov_dict = {}
for i, char in enumerate(text[:-l_context]):
    ngram = text[i: i + l_context]
    if ngram in markov_dict:
        markov_dict[ngram].append(text[i + l_context])
    else:
        markov_dict[ngram] = [text[i + l_context]]


n = int(input("quante lettere vuoi generare"))
ngram_0 = "sei "
phrase = ngram_0

if len(ngram_0) != l_context:
   print("errore")
else:
    for i in range(n):
        if ngram_0 in markov_dict:
            next_char = random.choice(markov_dict[ngram_0])
            phrase += next_char
            ngram_0 = phrase[-l_context:]
        else:
            break
phrase





# Fare tutto con una classe che gestisce la catena
import random


class MarkovChain:
    def __init__(self, path):
        self.l_context = 2
        self.dict = {}
        file = open(path, encoding = "utf-8")
        text = file.read()
        text = text.replace("\n", " ").lower()
        for _ in range(2):
            text = text.replace("  ", " ")

    def tokenize(self,l_context = 2):
        self.l_context = l_context

        self.dict = {}
        for i, _ in enumerate(text[:-self.l_context]):
            ngram = text[i: i + self.l_context]
            if ngram in self.dict:
                self.dict[ngram].append(text[i + self.l_context])
            else:
                self.dict[ngram] = [text[i + self.l_context]]

    def printPhrase(self,characters):
        ngram_0 = list(self.dict.keys())[0]
        phrase = ngram_0

        if len(ngram_0) != self.l_context:
            print("errore")
        else:
            for i in range(characters):
                if ngram_0 in self.dict:
                    next_char = random.choice(self.dict[ngram_0])
                    phrase += next_char
                    ngram_0 = phrase[-self.l_context:]
                else:
                    break
        print(phrase)
        



path = "./sei_personaggi_in_cerca_dautore_Luigi_Pirandello.txt"

markovChain = MarkovChain(path)

markovChain.tokenize(4)
markovChain.printPhrase(200)
markovChain.printPhrase(200)
markovChain.printPhrase(200)
markovChain.tokenize(2)
markovChain.printPhrase(200)
markovChain.tokenize(8)
markovChain.printPhrase(200)






