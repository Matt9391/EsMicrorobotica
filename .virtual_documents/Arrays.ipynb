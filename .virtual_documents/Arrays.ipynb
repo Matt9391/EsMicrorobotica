import numpy as np
import matplotlib.pyplot as plt




matrix = np.arange(10).reshape((2,5))
matrix


matrix.dtype


matrix.shape


array = np.arange(8)
array


matrix = np.arange(10).reshape((2,-1))
matrix





array3d = np.random.uniform(0., 1., (3,3,5))
array3d





array1d = np.arange(8)
array1d

array1d[4]


array1d[4:7] #Slicing


array1d[2:7:2] = 99 #Broadcast
array1d





#array di booleani possono essre usati come indici
print(array1d)
boolIndex = array1d == 99
array1d[boolIndex] = 1000
array1d


matrixOnes = np.ones((10, 10))
matrixOnes


matrixOnes[::2] = 0
plt.imshow(matrixOnes, cmap="Greys")


matrixOnes = np.ones((8,8))
matrixOnes[::2, ::2] = 0
matrixOnes[1::2, 1::2] = 0
print(matrixOnes)
plt.imshow(matrixOnes)


n = 8
chessboard = (np.arange(n).reshape((n,1)) + np.arange(n)) % 2
chessboard





img_read = plt.imread("./IMG.jpg")
img = img_read.copy()
print(type(img))
print(img.shape)
print(img.dtype)
# print(img)


red = img[:,:,0]
print(np.max(red))
print(np.min(red))


plt.imshow(red, cmap="Greys_r")


# img[:,:,0] = 0
plt.imshow(img)


img[0:20,:,:] = 0
plt.imshow(img)


img[400:800,400:1200,:] = 0
plt.imshow(img)


img_read



