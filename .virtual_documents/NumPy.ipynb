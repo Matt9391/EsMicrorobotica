





import numpy as np





#array di interi
array_int = np.zeros(5, dtype = np.int32)
array_int


array_float = np.zeros(5, dtype = np.float64)
array_float                       


array_complex = np.zeros(5, dtype = np.complex128)
array_complex


print(array_int.dtype)
print(array_float.dtype)
print(array_complex.dtype)


#Matrice di float
matrix_float = np.zeros((5,7), dtype = np.float64)
matrix_float


#Memoria occupata
print(array_int.nbytes)
#shape usata nelle matrici
print(array_int.shape)
print(matrix_float.shape)





#Broadcasting (aggiunge 1 a ogni elemento)
array_int_new = array_int + 1
print(array_int_new)
array_int_new = array_int + 1. #fa la conversione in float
print(array_int_new)
print(array_int_new.dtype)


v1 = np.array([1,2], dtype = np.int32)
print(v1)
v2 = np.array([3,-5])
print(v2)
print(v1 + v2)


# Uniform(a, b, shape) genera un array di dimensioni shape con valori pseudo casuale compresi tra a e b
array_random = np.random.uniform(0, 1, (100000000))
print(array_random)








#numeri con stessa probabilità
np.random.uniform(0, 1.)
#numeri interi
np.random.randint(0, 100)





n = 10
dice = np.random.randint(1,7,n)
print(dice)
win = (dice == 6) | (dice == 5)
print(win)
print(np.count_nonzero(win))





n = 10
a = np.random.randint(1,7, (2,n))
b = np.random.randint(1,7, (2,n))
#somma solo sull'asse 0 (somma righe)
a = np.sum(a, axis = 0)
b = np.sum(b, axis = 0)
print(f"a vince su b {np.count_nonzero(a > b)} volte")
print(f"a pareggia con b {np.count_nonzero(a == b)} volte")


n = 10
a = np.random.randint(1,7, n) + np.random.randint(1,7, n)
b = np.random.randint(1,7, n) + np.random.randint(1,7, n)
print(f"a vince su b {np.count_nonzero(a > b)} volte")
print(f"a pareggia con b {np.count_nonzero(a == b)} volte")


import matplotlib.pyplot as plt

n = 10000
a = np.random.randint(1,7, n) + np.random.randint(1,7, n)
b = np.random.randint(1,7, n) + np.random.randint(1,7, n)

plt.hist(a, bins=11)



np.random.choice(["Testa", "Croce"], 5)


np.random.choice(["Testa", "Croce"], 5, p = [0.9, 0.1])






