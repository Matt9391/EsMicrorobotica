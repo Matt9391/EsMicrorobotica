


import numpy as np


matrix = np.random.uniform(0, 100,(4,5))
mediaColonne = np.sum(matrix, axis=0) / matrix.shape[1]
deviazione = np.std(matrix, axis=0)
mediaColonne / deviazione





matrix2 = np.random.randint(-10,10,(6,6))
matrix2[matrix2 < 0] = 0
sommaRighe = np.sum(matrix2, axis = 1)
matrix2[sommaRighe > 15] 
matrix2





matrix3 = np.random.randint(-5, 35, 100)
filtro = (matrix3 >= 15) & (matrix3 <= 25)
numGiorni = matrix3[filtro].size
print(numGiorni)







