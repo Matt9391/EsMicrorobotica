import numpy as np
import matplotlib.pyplot as plt





array = np.arange(0.0, 1.0001, 0.0001)
wave = np.sin(2 * np.pi * 90 * array) + np.sin(2 * np.pi * 100 * array)
plt.plot(array,wave)


positiveWave = wave[wave > 0]
plt.plot(array[wave > 0],positiveWave)


max = np.max(wave)
print(max)
zero = wave[wave == 0]
print(zero)

wavePrev = np.roll(wave, -1)
waveNext = np.roll(wave, 1)
                        # se in un punto x la f(x) è maggiore del precedente e del successivo c'è un massimo locale
localMaxBoolIndices =  (wave > wavePrev) & (wave > waveNext)
print(wave[localMaxBoolIndices])






p1 = 0
p2 = 0
for i in range(6):
    dice1 = np.random.randint(1,7,1000)
    dice2 = np.random.randint(1,7,1000)
    draw = dice1 == dice2
    p1 += np.count_nonzero(draw) / 2.
    p2 += np.count_nonzero(draw) / 2.
    p1wins = dice1[dice1 != dice2] > dice2[dice1 != dice2]
    p1 += np.count_nonzero(p1wins)
    p2 += len(dice2[dice1 != dice2]) - np.count_nonzero(p1wins)
print(p1,p2)





N = 1000
mean = 19
varianza = 5
vStd = np.sqrt(varianza)
err = 20

array = np.random.normal(mean, vStd, N)
error_indices = np.random.choice(N, size=err, replace=False)
array[error_indices] = 9999.9

cleanArray = array[array != 9999.9]

meanArr = np.mean(cleanArray)
maxArr = np.max(cleanArray)
minArr = np.min(cleanArray)

print(meanArr,maxArr,minArr)



