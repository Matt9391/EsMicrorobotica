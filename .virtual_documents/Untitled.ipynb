





import numpy as np





#array di interi
array_int = np.zeros(5, dtype = np.int32)
array_int


array_float = np.zeros(5, dtype = np.float64)
array_float                       


array_complex = np.zeros(5, dtype = np.complex128)
array_complex


print(array_int.dtype)
print(array_float.dtype)
print(array_complex.dtype)


#Matrice di float
matrix_float = np.zeros((5,7), dtype = np.float64)
matrix_float


#Memoria occupata
print(array_int.nbytes)
#shape usata nelle matrici
print(array_int.shape)
print(matrix_float.shape)





#Broadcasting (aggiunge 1 a ogni elemento)
array_int_new = array_int + 1
print(array_int_new)
array_int_new = array_int + 1. #fa la conversione in float
print(array_int_new)
print(array_int_new.dtype)


v1 = np.array([1,2], dtype = np.int32)
print(v1)
v2 = np.array([3,-5])
print(v2)
print(v1 + v2)


# Uniform(a, b, shape) genera un array di dimensioni shape con valori pseudo casuale compresi tra a e b
array_random = np.random.uniform(0, 1, (100000000))
print(array_random)






