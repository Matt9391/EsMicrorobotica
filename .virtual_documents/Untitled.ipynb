import numpy as np
import matplotlib.pyplot as plt




matrix = np.arange(10).reshape((2,5))
matrix


matrix.dtype


matrix.shape


array = np.arange(8)
array


matrix = np.arange(10).reshape((2,-1))
matrix





array3d = np.random.uniform(0., 1., (3,3,5))
array3d





array1d = np.arange(8)
array1d

array1d[4]


array1d[4:7] #Slicing


array1d[2:7:2] = 99 #Broadcast
array1d





#array di booleani possono essre usati come indici
print(array1d)
boolIndex = array1d == 99
array1d[boolIndex] = 1000
array1d


matrixOnes = np.ones((10, 10))
matrixOnes


matrixOnes[::2] = 0
plt.imshow(matrixOnes, cmap="Greys")


matrixOnes = np.ones((8,8))
matrixOnes[:, ::2] = 0
matrixOnes



