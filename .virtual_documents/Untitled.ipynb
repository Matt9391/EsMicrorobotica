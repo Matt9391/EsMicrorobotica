import numpy as np
import matplotlib.pyplot as plt





np.linespace(0., 5., 11)



