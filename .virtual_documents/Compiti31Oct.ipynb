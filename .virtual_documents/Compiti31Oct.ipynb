import numpy as np
import matplotlib.pyplot as plt





array = np.arange(0.0, 1.0001, 0.0001)
nElementi = (1.0001 - 0.0) / 0.0001
array = np.linspace(0.0, 1., 10000)
print(nElementi)
wave = np.sin(2 * np.pi * 90 * array) + np.sin(2 * np.pi * 100 * array)
plt.plot(array,wave)


amp = np.max(wave)
wave2 = wave > amp/2
array[wave2]





EPSILON = 0.000001
zero = (wave < EPSILON) & (wave > -EPSILON)
array0 = array[zero]
print(array0)


localMaxBoolIndices.shape


wavePrev = np.roll(wave, -1)
waveNext = np.roll(wave, 1)
                        # se in un punto x la f(x) è maggiore del precedente e del successivo c'è un massimo locale
newWave = wave[1:-1]
localMaxBoolIndices =  (wave > wavePrev) & (wave > waveNext)
newWave[localMaxBoolIndices[1:-1]]






p1 = 0
p2 = 0
for i in range(6):
    dice1 = np.random.randint(1,7,1000)
    dice2 = np.random.randint(1,7,1000)
    draw = dice1 == dice2
    p1 += np.count_nonzero(draw) / 2.
    p2 += np.count_nonzero(draw) / 2.
    p1wins = dice1[dice1 != dice2] > dice2[dice1 != dice2]
    p1 += np.count_nonzero(p1wins)
    p2 += len(dice2[dice1 != dice2]) - np.count_nonzero(p1wins)
print(p1,p2)


NPARTITE = 6
NLANCI = 10000
dice1 = np.random.randint(1,7,(NPARTITE, NLANCI))
dice2 = np.random.randint(1,7,(NPARTITE, NLANCI))
draws = dice1 == dice2

wins1 = dice1 > dice2

points1 = wins1*1. + draws*0.5
gamePoints1 = np.sum(points1, axis=1)
gamePoints2 = NLANCI - gamePoints1
print(gamePoints1)
print(gamePoints2)


NPARTITE = 6
NLANCI = 10000
nums = np.arange(1,7)
probs = [1/8.,1/8.,1/8.,1/8.,2/8.,1/4.]
dice1 = np.random.choice(nums,(NPARTITE, NLANCI), p=probs)
dice2 = np.random.choice(nums,(NPARTITE, NLANCI))

draws = dice1 == dice2

wins1 = dice1 > dice2

points1 = wins1*1. + draws*0.5
gamePoints1 = np.sum(points1, axis=1)
gamePoints2 = NLANCI - gamePoints1
print(gamePoints1)
print(gamePoints2)





N = 1000
mean = 19
varianza = 5
vStd = np.sqrt(varianza)
err = 20

array = np.random.normal(mean, vStd, N)
error_indices = np.random.choice(N, size=err, replace=False)
array[error_indices] = 9999.9

cleanArray = array[array != 9999.9]

meanArr = np.mean(cleanArray)
maxArr = np.max(cleanArray)
minArr = np.min(cleanArray)

print(meanArr,maxArr,minArr)





import cv2 from cv2

height, width = 200, 200

# Crea immagine nera (RGB)
img = np.zeros((height, width, 3), dtype=np.uint8)

# Parametri cerchio
center = (width // 2, height // 2)  # centro dell'immagine
radius = 50
color = (0, 255, 0)  # verde in BGR
thickness = -1       # riempito

# Disegna il cerchio
cv2.circle(img, center, radius, color, thickness)

# Mostra l'immagine
cv2.imshow("Cerchio Verde", img)
cv2.waitKey(0)
cv2.destroyAllWindows()
