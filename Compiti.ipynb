{
 "cells": [
  {
   "cell_type": "code",
   "execution_count": 1,
   "metadata": {},
   "outputs": [],
   "source": [
    "import numpy as np\n",
    "import matplotlib.pyplot as plt\n"
   ]
  },
  {
   "cell_type": "code",
   "execution_count": 2,
   "metadata": {},
   "outputs": [
    {
     "name": "stdout",
     "output_type": "stream",
     "text": [
      "[0.   0.25 0.5  0.75 1.  ]\n",
      "[1.   0.75 0.5  0.25 0.  ]\n"
     ]
    }
   ],
   "source": [
    "#Es 1\n",
    "array = np.ndarray(5)\n",
    "arrayInv = array[::-1]\n",
    "print(array)\n",
    "print(arrayInv)"
   ]
  },
  {
   "cell_type": "code",
   "execution_count": 3,
   "metadata": {},
   "outputs": [
    {
     "name": "stdout",
     "output_type": "stream",
     "text": [
      "[ 2  3  5  7 11 13 17 19 23 29 31 37 41 43 47 53 59 61 67 71 73 79 83 89\n",
      " 97]\n"
     ]
    }
   ],
   "source": [
    "#Es 2\n",
    "\n",
    "n = 100\n",
    "\n",
    "array = np.ones(n, dtype=bool)\n",
    "array[:2] = False #imposto a false i primi 2 numeri perché non primi\n",
    "for i in range(2, int(n**0.5) + 1):\n",
    "    if array[i]:\n",
    "            # parti dal prossimo multiplo e scorri fino alla fine\n",
    "            # e a ogni passo di \"i\" cioè il numero primo attuale, quindi un multiplo lo togli\n",
    "            array[i*i : n : i] = False\n",
    "array = np.nonzero(array)[0]\n",
    "print(array)\n",
    "\n"
   ]
  },
  {
   "cell_type": "code",
   "execution_count": null,
   "metadata": {},
   "outputs": [
    {
     "name": "stdout",
     "output_type": "stream",
     "text": [
      "[[0. 1. 0. 1. 0. 1. 0. 1.]\n",
      " [1. 0. 1. 0. 1. 0. 1. 0.]\n",
      " [0. 1. 0. 1. 0. 1. 0. 1.]\n",
      " [1. 0. 1. 0. 1. 0. 1. 0.]\n",
      " [0. 1. 0. 1. 0. 1. 0. 1.]\n",
      " [1. 0. 1. 0. 1. 0. 1. 0.]\n",
      " [0. 1. 0. 1. 0. 1. 0. 1.]\n",
      " [1. 0. 1. 0. 1. 0. 1. 0.]]\n"
     ]
    },
    {
     "data": {
      "text/plain": [
       "<matplotlib.image.AxesImage at 0x2c67f1e8950>"
      ]
     },
     "execution_count": 22,
     "metadata": {},
     "output_type": "execute_result"
    },
    {
     "data": {
      "image/png": "[encoded data removed]",
      "text/plain": [
       "<Figure size 640x480 with 1 Axes>"
      ]
     },
     "metadata": {},
     "output_type": "display_data"
    }
   ],
   "source": [
    "#Es 6\n",
    "matrixOnes = np.ones((8,8))\n",
    "matrixOnes[::2, ::2] = 0\n",
    "matrixOnes[1::2, 1::2] = 0\n",
    "print(matrixOnes)\n",
    "plt.imshow(matrixOnes)"
   ]
  },
  {
   "cell_type": "code",
   "execution_count": 10,
   "metadata": {},
   "outputs": [
    {
     "name": "stdout",
     "output_type": "stream",
     "text": [
      "[[1. 1. 1. 1. 1. 1. 1. 1. 1. 1.]\n",
      " [1. 1. 1. 1. 1. 1. 1. 1. 1. 1.]\n",
      " [1. 1. 0. 1. 1. 1. 1. 0. 1. 1.]\n",
      " [1. 1. 0. 1. 1. 1. 1. 0. 1. 1.]\n",
      " [1. 1. 0. 1. 0. 0. 1. 0. 1. 1.]\n",
      " [1. 1. 0. 1. 0. 1. 1. 0. 1. 1.]\n",
      " [1. 1. 0. 1. 1. 1. 1. 0. 1. 1.]\n",
      " [1. 1. 0. 1. 1. 1. 1. 1. 1. 1.]\n",
      " [1. 1. 1. 1. 1. 1. 1. 1. 1. 1.]\n",
      " [1. 1. 1. 1. 1. 1. 1. 1. 1. 1.]]\n"
     ]
    },
    {
     "data": {
      "text/plain": [
       "<matplotlib.image.AxesImage at 0x1e089565590>"
      ]
     },
     "execution_count": 10,
     "metadata": {},
     "output_type": "execute_result"
    },
    {
     "data": {
      "image/png": "[encoded data removed]",
      "text/plain": [
       "<Figure size 640x480 with 1 Axes>"
      ]
     },
     "metadata": {},
     "output_type": "display_data"
    }
   ],
   "source": [
    "#Es 7\n",
    "matrixOnes = np.ones((10,10))\n",
    "# for i in range(1,2):\n",
    "    # matrixOnes[i:-i:, i:-i:2] = 0\n",
    "\"\"\"\n",
    "# left right up down\n",
    "matrixOnes[::, :1:] =  0 #0:-0:1,  0: 1:1 \n",
    "matrixOnes[::, -1::] = 0 #0:-0:1, -1:-0:1\n",
    "matrixOnes[:1:, ::] =  0 #0: 1:1,  0:-0:1 \n",
    "matrixOnes[-1::, ::] = 0 #-1:-0:1, 0:-0:1\n",
    "\n",
    "# left right up down\n",
    "matrixOnes[2:-2:, 2:3:] = 0   #2:-2:1, 2:3:1\n",
    "matrixOnes[2:-2:, -3:-2:] = 0 #2:-2:1, -3:-2:1\n",
    "matrixOnes[2:3:, 2:-3:] = 0\n",
    "matrixOnes[-3:-2:, 2:-3:] = 0\n",
    "\n",
    "# center\n",
    "matrixOnes[4:-4:, 4:5:] = 0 # 4:-4:1, 4:5:1\n",
    "matrixOnes[4:-4:, 5:6:] = 0 # 4:-4:1, -5:-4:1\n",
    "\"\"\"\n",
    "for i in range(0,5,2):\n",
    "    matrixOnes[i:-i:1, i:i+1:1] = 0\n",
    "\n",
    "for i in range(1,6,2):\n",
    "    matrixOnes[i:-i:1, -i:-(i-1):1] = 0\n",
    "\n",
    "# matrixOnes[5:6:, 4:6:] = 0\n",
    "# matrixOnes[::2, 1:9:] = 0\n",
    "    # matrixOnes[i::1, 10-i:] = 0\n",
    "print(matrixOnes)\n",
    "plt.imshow(matrixOnes)\n",
    "\n",
    "size = 10\n",
    "bersaglio = np.ones((size,size))\n",
    "indx = 1\n",
    "\n",
    "while indx <= size//2:\n",
    "    bersaglio[indx:-indx, indx:-indx] = indx + 1\n",
    "    indx += 1\n",
    "plt.imshow(bersaglio)\n"
   ]
  },
  {
   "cell_type": "code",
   "execution_count": 7,
   "metadata": {},
   "outputs": [
    {
     "name": "stdout",
     "output_type": "stream",
     "text": [
      "8\n"
     ]
    }
   ],
   "source": [
    "#Es 3 p 107\n",
    "num = 0\n",
    "for i in range(10000):\n",
    "    array = np.random.choice([True, False], 1000)\n",
    "    #True = croce, False = testa\n",
    "    if np.count_nonzero(array) > (0.55 * 1000):\n",
    "        num += 1\n",
    "print(num)\n"
   ]
  },
  {
   "cell_type": "code",
   "execution_count": 3,
   "metadata": {},
   "outputs": [
    {
     "data": {
      "text/plain": [
       "b''"
      ]
     },
     "execution_count": 3,
     "metadata": {},
     "output_type": "execute_result"
    }
   ],
   "source": [
    "a = False\n"
   ]
  },
  {
   "cell_type": "code",
   "execution_count": null,
   "metadata": {},
   "outputs": [],
   "source": []
  },
  {
   "cell_type": "code",
   "execution_count": null,
   "metadata": {},
   "outputs": [],
   "source": []
  }
 ],
 "metadata": {
  "kernelspec": {
   "display_name": "Python [conda env:base] *",
   "language": "python",
   "name": "conda-base-py"
  },
  "language_info": {
   "codemirror_mode": {
    "name": "ipython",
    "version": 3
   },
   "file_extension": ".py",
   "mimetype": "text/x-python",
   "name": "python",
   "nbconvert_exporter": "python",
   "pygments_lexer": "ipython3",
   "version": "3.13.5"
  }
 },
 "nbformat": 4,
 "nbformat_minor": 4
}
