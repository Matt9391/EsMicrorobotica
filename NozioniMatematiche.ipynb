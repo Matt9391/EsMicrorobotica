{
 "cells": [
  {
   "cell_type": "markdown",
   "id": "1e7d265b-700e-46b1-9caf-0c684e74864a",
   "metadata": {},
   "source": [
    "# Nozioni Mate\n"
   ]
  },
  {
   "cell_type": "markdown",
   "id": "d25a15f0-d738-4352-aaa9-a9b16c9cf548",
   "metadata": {},
   "source": [
    "## Media e Deviazione STD\n",
    "{x1,x2,x3,x4,..,xn}\n",
    "\n",
    "**Indici statistici** :\n",
    "- { media: m, deviazione std : s}\n",
    "- $m = \\frac{x1 + x2 + ... + xn} {n} = \\frac{1}{n} \\sum_{i=1}^{n}$\n",
    "\n",
    "r1 = x1 - m -> Residuo -> può essere sia positivo che negativa, media dei residui non è accurata\n",
    "- $\\frac{(x1-m)^2 +(x2-m)^2 + ... + (xn-m)^2}{n} $ = **Varianza [V]**: quanto i dati variano intorno alla loro media\n",
    "\n",
    "$s = \\sqrt[2]{V}$\n",
    " \n"
   ]
  },
  {
   "cell_type": "code",
   "execution_count": null,
   "id": "00bce74a-58cd-4b0a-bc9f-b0c1cb876626",
   "metadata": {},
   "outputs": [],
   "source": []
  }
 ],
 "metadata": {
  "kernelspec": {
   "display_name": "Python [conda env:base] *",
   "language": "python",
   "name": "conda-base-py"
  },
  "language_info": {
   "codemirror_mode": {
    "name": "ipython",
    "version": 3
   },
   "file_extension": ".py",
   "mimetype": "text/x-python",
   "name": "python",
   "nbconvert_exporter": "python",
   "pygments_lexer": "ipython3",
   "version": "3.13.5"
  }
 },
 "nbformat": 4,
 "nbformat_minor": 5
}
