{
 "cells": [
  {
   "cell_type": "code",
   "execution_count": 1,
   "id": "f9963f3c-8061-4be0-b0dd-3cc780640431",
   "metadata": {},
   "outputs": [
    {
     "data": {
      "text/plain": [
       "5"
      ]
     },
     "execution_count": 1,
     "metadata": {},
     "output_type": "execute_result"
    }
   ],
   "source": [
    "2 + 3"
   ]
  },
  {
   "cell_type": "markdown",
   "id": "90c3cacc-f22b-4928-8869-8b6cb9d8164e",
   "metadata": {},
   "source": [
    "## Ciao\n"
   ]
  },
  {
   "cell_type": "markdown",
   "id": "7bd6faf5-c717-4f37-a8ce-0cabc1662341",
   "metadata": {},
   "source": [
    "$f(x) = \\frac{sin(x)}{x}$"
   ]
  },
  {
   "cell_type": "markdown",
   "id": "64493624-5e4d-47ab-97c1-c8c575753346",
   "metadata": {},
   "source": [
    "# Pericoli nell'uso dei notebook\n"
   ]
  },
  {
   "cell_type": "code",
   "execution_count": 2,
   "id": "be53339d-f4d3-4e77-80d6-da95cba7f15d",
   "metadata": {},
   "outputs": [],
   "source": [
    "a = 1"
   ]
  },
  {
   "cell_type": "code",
   "execution_count": 3,
   "id": "970cc5b7-63cc-4f06-92da-ef046361cdc0",
   "metadata": {},
   "outputs": [
    {
     "name": "stdout",
     "output_type": "stream",
     "text": [
      "1\n"
     ]
    }
   ],
   "source": [
    "print(a)"
   ]
  },
  {
   "cell_type": "markdown",
   "id": "02b9d48b-7727-4607-90b6-a0b7f523218c",
   "metadata": {},
   "source": [
    "# Ripasso vario su Python\n"
   ]
  },
  {
   "cell_type": "markdown",
   "id": "5cd843a6-53b5-492d-b9cf-95ebe9e78bd2",
   "metadata": {},
   "source": [
    "1) Generare una stringa di testo casuale di lughezza assegnata. La stringa può contenere lettere, numeri, spazi, simboli di punteggiatura"
   ]
  },
  {
   "cell_type": "code",
   "execution_count": 5,
   "id": "d96d1a24-2b57-45f5-b8b5-d3dd958d9f3c",
   "metadata": {},
   "outputs": [],
   "source": [
    "import random"
   ]
  },
  {
   "cell_type": "code",
   "execution_count": 29,
   "id": "8cf09015-b722-40e5-8b26-5676b3fe2460",
   "metadata": {},
   "outputs": [
    {
     "data": {
      "text/plain": [
       "'d3;cu8gl3hngzvh))8bs'"
      ]
     },
     "execution_count": 29,
     "metadata": {},
     "output_type": "execute_result"
    }
   ],
   "source": [
    "length = 20\n",
    "# il metodo gioni() è un metodo delle stringhe! però vuole come parametro una lista di stringhe\n",
    "chars = \"abcdefghilmnopqrstuvz 0123456789.,;-!?()&/$%£\"\n",
    "str = \"\".join([random.choice(chars) for _ in range(length)])\n",
    "str"
   ]
  },
  {
   "cell_type": "code",
   "execution_count": 21,
   "id": "255222b3-90c1-49a3-932f-a0a1b0d5c528",
   "metadata": {},
   "outputs": [
    {
     "data": {
      "text/plain": [
       "'£'"
      ]
     },
     "execution_count": 21,
     "metadata": {},
     "output_type": "execute_result"
    }
   ],
   "source": [
    "\n",
    "\n",
    "random.choice(chars)"
   ]
  },
  {
   "cell_type": "markdown",
   "id": "bfe66bc1-ae57-4b58-b4e0-5dd1769e4ea7",
   "metadata": {},
   "source": [
    "## Compito\n",
    "- Cercare un testo letteraio in formato .txt.\n",
    "- Leggete il file.\n",
    "- Create un dizionario che ha come chiavi tutti i caratteri presenti nel file.txt e come valore la frequenza assoluto del carattere nel testo.\n",
    "- Create un dizionario che ha come chiavi tutti i caratteri presenti nel file.txt e come valore delle liste contenente  tutte le possibili lettere che capitano dopo la chiave"
   ]
  },
  {
   "cell_type": "code",
   "execution_count": 2,
   "id": "222ab103-ce43-4ab4-90a6-fd5a26768c8e",
   "metadata": {},
   "outputs": [
    {
     "name": "stdout",
     "output_type": "stream",
     "text": [
      "{'L': 4, 'a': 136, ' ': 208, 'D': 10, 'i': 126, 'v': 15, 'n': 78, 'C': 3, 'o': 92, 'm': 26, 'e': 116, 'd': 40, 'Ã': 10, '¨': 4, 'u': 26, 'p': 29, 'c': 41, 's': 33, 'r': 65, 't': 62, 'A': 1, 'l': 71, 'g': 22, 'h': 7, '1': 4, '3': 5, '0': 3, '8': 1, '2': 1, '.': 11, 'ˆ': 1, '¹': 1, 'I': 8, ':': 1, 'f': 11, ',': 16, 'P': 7, 'z': 3, \"'\": 8, '4': 1, '\\n': 9, '\\xa0': 4, 'V': 1, 'B': 1, 'b': 6, 'N': 2}\n"
     ]
    }
   ],
   "source": [
    "file = open(\"file.txt\", \"r\");\n",
    "freq = {}\n",
    "ctx = file.read()\n",
    "for char in ctx:\n",
    "    if char in freq:\n",
    "        freq[char] += 1\n",
    "    else:\n",
    "        freq[char] = 1\n",
    "print(freq)"
   ]
  },
  {
   "cell_type": "code",
   "execution_count": 4,
   "id": "82a0622f-aec7-411b-965c-89d35139ca84",
   "metadata": {},
   "outputs": [
    {
     "name": "stdout",
     "output_type": "stream",
     "text": [
      "{'L': \" a ' a a\", 'a': '           n   t     n   t   l n   l   n t r d s       n d   l n   c   g g r n t v l t l   n t   t r d g   n     z i t n r n s l   v t t n n r n   r r d r d n     t t         g l   n             n   r l   s       l n   .               p c r , ,   , n   l n       t   m t  ', ' ': ' D C Ã u p e s d D A t i 1 e i 1 Ã c u d o p i d l i e m I p Ã d i t c I P e P c c d 3 c a e d c n h 3 p u t d 1 c r i v i d D a l g d p r V n e n P e d B n P I v s i p d v D e l p d p D d i v g i c l a s p i b a g d l p N P l a e l l c e s p a e i P I n P D e l b d b e l v d D D C n Ã s u v s m a u c r l s l p e l c d t d D I p Ã s i v f c a n d l i m f d D C r n s c d c p f t e p c u u c a o c a e s e a i t i m', 'D': ' i a a i a a i i a i', 'i': ' v n a c t g e   l l d Ã m   t a a v s n c o s a , o   . l a o m n o   l d r l o o c s a o m a l m o f c o   . v     r   n   m t n t   . o m a   n s n s t n     s o   o v n a a o r t f e t c   t n o n b t n t a v n a s e t   n a l a a t c v   n a r n l', 'v': ' i i i e i e e a i i i i o i e', 'n': \" a   t s a t a d   t f o a t e f o e   t t a t o e f o e e i e f o t i   i o i   i o o t   f e e t e e a o     c ' t   t o t d a g a a a e a d ' i c t u   d\", 'C': ' o o o', 'o': ' m e     n p r n e   , r   , m s n   t p n         e m       r , .   l r       n , n n   r   r ,   r   l   . , r n . m n l     p c l   e   l r , n   d r m m e s f l g l   p r g n   n .', 'm': ' m e a p o a p m a a b a e e m e a p a o m e b m i o', 'e': ' d m p   r   r l   r   l t r   . m   : r   c z   l r     r   r   r t l r   l   a   l g r l r     c l r   s           i c l     s       p n   , l   s a   i a     d ,   r   t   t   l m . m   n n l r l d d   l   s o   a r r     s r    ', 'd': ' i a e e e i i i a   e i i i a a a i e a e e i i i e i i e i o e e e i e i o i o', 'Ã': ' ¨ ˆ ¹ ¨ \\xa0 \\xa0 ¨ \\xa0 ¨ \\xa0', '¨': '        ', 'u': ' n n r r n n i r r i n r d n a n l r e a a n n a d t', 'p': ' o i e i o o o e e o e u e u e i e r a l i e o o o a o o e', 'c': ' o r o a h i u o a c e h a c o e o a c a r u c a o h h i a u r o i a i o a r h o o', 's': ' c i o o c t o o i o o c o e p i o o p i o p o c c i u i o a s e t', 'r': ' i i a a e t a a e n g i a n   a a i a s o g n g i i a c s s i n i i o a o g i o e a a e a a a i a i a i e e i n z i e e a s a e a', 't': ' t o e r a a i t e u a r i o a i o a i a e t r o a o r i e e Ã i o r e i u i u t e Ã i u e e t o i r a a Ã e i i u a a u t o', 'A': ' l', 'l': \" i     l e l a e i e   l ' e   ' d Ã   i l '       e   l ' a l ' e l a o   e e o p   o a a o e e a a i a t     g l a l a i i l a l a o o i e  \", 'g': ' h a g i i u i a g i g i i r a g i a u i g i', 'h': ' i e e a e e e', '1': ' 3 3 . 0', '3': ' 0 2 3   4', '0': ' 8 0  ', '8': '  ', '2': ' 1', '.': '     \\n   \\n     \\n   \\n \\n', 'ˆ': '  ', '¹': '  ', 'I': ' l n n n l n n l', ':': '  ', 'f': ' e e e i e i l i o i i', ',': '                                ', 'P': ' u a u a u a a', 'z': ' i i a', \"'\": ' I o a I a I o o', '4': ' ,', '\\n': ' \\n L \\n N \\n L \\n L', '\\xa0': ' ,   ,  ', 'V': ' i', 'B': ' e', 'b': ' o a e e u i', 'N': ' e e'}\n"
     ]
    }
   ],
   "source": [
    "file = open(\"file.txt\", \"r\");\n",
    "freq = {}\n",
    "ctx = file.read()\n",
    "for i, char in enumerate(ctx[:-1]):\n",
    "    if char in freq:\n",
    "        freq[char] += \" \" + ctx[i + 1]\n",
    "    else:\n",
    "        freq[char] =  \" \" + ctx[i + 1]\n",
    "print(freq)"
   ]
  },
  {
   "cell_type": "code",
   "execution_count": 1,
   "id": "5631463b-97e0-48b4-b8f1-0c779eef255b",
   "metadata": {},
   "outputs": [
    {
     "name": "stdin",
     "output_type": "stream",
     "text": [
      "inserisci un carattere da cui partire:  r\n",
      "inserisci la lunghezza della parola che vuoi creare:  200\n"
     ]
    },
    {
     "name": "stdout",
     "output_type": "stream",
     "text": [
      "gite lalicreleria vileredi le be Di ungime, ele deso de indiradi so, Din'Il il 13213 ananfemopiopo che Puteliledilaisenepofi e di.\n",
      "La da dia loplo nintilia echa Da Con fe n'a le asono, meanto Co, Puno\n"
     ]
    }
   ],
   "source": [
    "import random\n",
    "file = open(\"file.txt\", \"r\");\n",
    "freq = {}\n",
    "ctx = file.read()\n",
    "for i, char in enumerate(ctx[:-1]):\n",
    "    if char in freq:\n",
    "        freq[char].append(ctx[i + 1])\n",
    "    else:\n",
    "        freq[char] =  [ctx[i + 1]]\n",
    "char = input(\"inserisci un carattere da cui partire: \")\n",
    "length = int(input(\"inserisci la lunghezza della parola che vuoi creare: \"))\n",
    "parola = \"\"\n",
    "for i in range(length):\n",
    "    char = random.choice(freq[char])\n",
    "    parola += char\n",
    "    \n",
    "print(parola)"
   ]
  },
  {
   "cell_type": "code",
   "execution_count": null,
   "id": "f660c665-9dbe-4291-817b-eb719b59f1d7",
   "metadata": {},
   "outputs": [],
   "source": []
  }
 ],
 "metadata": {
  "kernelspec": {
   "display_name": "Python [conda env:base] *",
   "language": "python",
   "name": "conda-base-py"
  },
  "language_info": {
   "codemirror_mode": {
    "name": "ipython",
    "version": 3
   },
   "file_extension": ".py",
   "mimetype": "text/x-python",
   "name": "python",
   "nbconvert_exporter": "python",
   "pygments_lexer": "ipython3",
   "version": "3.13.5"
  }
 },
 "nbformat": 4,
 "nbformat_minor": 5
}
