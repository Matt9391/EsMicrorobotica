{
 "cells": [
  {
   "cell_type": "markdown",
   "id": "0d0dc4a7-3679-499b-bf29-3d689bd4b084",
   "metadata": {},
   "source": [
    "## matrice 4x5 casuale. sottrai da ogni colonna la sua media e dividi per la sua deviazione (np.std)\n"
   ]
  },
  {
   "cell_type": "code",
   "execution_count": 1,
   "id": "0500013f-47b2-45e0-8231-af6f5e900049",
   "metadata": {},
   "outputs": [],
   "source": [
    "import numpy as np"
   ]
  },
  {
   "cell_type": "code",
   "execution_count": 35,
   "id": "113c6e75-c0dc-49c9-ba09-5bf7a6aa2fc9",
   "metadata": {},
   "outputs": [
    {
     "data": {
      "text/plain": [
       "array([1.21406045, 1.8705976 , 1.28155029, 1.2560632 , 1.86992001])"
      ]
     },
     "execution_count": 35,
     "metadata": {},
     "output_type": "execute_result"
    }
   ],
   "source": [
    "matrix = np.random.uniform(0, 100,(4,5))\n",
    "mediaColonne = np.sum(matrix, axis=0) / matrix.shape[1]\n",
    "deviazione = np.std(matrix, axis=0)\n",
    "mediaColonne / deviazione"
   ]
  },
  {
   "cell_type": "markdown",
   "id": "cc8cccb1-8421-4a6f-ae13-897673a21753",
   "metadata": {},
   "source": [
    "## matrice 6x6 interi casuali -10+10. sostituire i valori negativi con 0, \n",
    "## estrarre le righe che hanno somma maggiore di 15\n"
   ]
  },
  {
   "cell_type": "code",
   "execution_count": 34,
   "id": "cf4bf0fa-6811-49aa-bf8e-955983c73c32",
   "metadata": {},
   "outputs": [
    {
     "data": {
      "text/plain": [
       "array([[0, 1, 0, 0, 0, 0],\n",
       "       [7, 1, 0, 0, 0, 0],\n",
       "       [0, 4, 0, 0, 0, 0],\n",
       "       [6, 5, 1, 7, 0, 0],\n",
       "       [8, 6, 3, 0, 2, 8],\n",
       "       [0, 0, 0, 0, 0, 0]], dtype=int32)"
      ]
     },
     "execution_count": 34,
     "metadata": {},
     "output_type": "execute_result"
    }
   ],
   "source": [
    "matrix2 = np.random.randint(-10,10,(6,6))\n",
    "matrix2[matrix2 < 0] = 0\n",
    "sommaRighe = np.sum(matrix2, axis = 1)\n",
    "matrix2[sommaRighe > 15] \n",
    "matrix2"
   ]
  },
  {
   "cell_type": "markdown",
   "id": "c9539d53-6a4e-432c-8928-46ce27aa30c8",
   "metadata": {},
   "source": [
    "array 100 temperature tra -5 + 35. Trova quanti giorni hanno 15 < t < 25\n",
    "sostituisci le t sotto 0 con 0 e sopra 30 con 30\n"
   ]
  },
  {
   "cell_type": "code",
   "execution_count": 58,
   "id": "84ab437f-0a77-422a-be76-3d48119aac17",
   "metadata": {},
   "outputs": [
    {
     "name": "stdout",
     "output_type": "stream",
     "text": [
      "32\n"
     ]
    },
    {
     "data": {
      "text/plain": [
       "array([ 6,  0, 21, 21, 27,  8,  0, 17,  0, 11,  6,  0, 30,  0,  0, 23,  8,\n",
       "       30,  0, 18, 22,  6, 16, 13,  0, 26, 11,  4, 11, 13,  3, 21, 30,  1,\n",
       "       16, 13, 30, 17, 26,  9, 28, 21, 22,  4,  0, 21, 30, 11,  9,  0, 17,\n",
       "       22, 16,  6, 18, 26, 21, 22, 26, 12, 13, 18, 13,  6, 25, 26,  0,  0,\n",
       "       22, 30, 16, 20, 13, 30, 18, 10,  8,  8, 17, 15,  0,  0, 22, 15, 14,\n",
       "       23, 10,  8, 21,  0, 21, 11, 29, 26,  4, 30, 14,  4,  3, 28],\n",
       "      dtype=int32)"
      ]
     },
     "execution_count": 58,
     "metadata": {},
     "output_type": "execute_result"
    }
   ],
   "source": [
    "matrix3 = np.random.randint(-5, 35, 100)\n",
    "filtro = (matrix3 >= 15) & (matrix3 <= 25)\n",
    "numGiorni = matrix3[filtro].size\n",
    "print(numGiorni)\n",
    "matrix3[matrix3 < 0] = 0\n",
    "matrix3[matrix3 > 30] = 30\n",
    "matrix3"
   ]
  },
  {
   "cell_type": "code",
   "execution_count": null,
   "id": "74553a4c-2caa-4a85-9a33-07a4c4c5ab6a",
   "metadata": {},
   "outputs": [],
   "source": []
  },
  {
   "cell_type": "code",
   "execution_count": null,
   "id": "64a1d60a-ac69-4f57-a591-6bfe6b762c76",
   "metadata": {},
   "outputs": [],
   "source": []
  }
 ],
 "metadata": {
  "kernelspec": {
   "display_name": "Python [conda env:base] *",
   "language": "python",
   "name": "conda-base-py"
  },
  "language_info": {
   "codemirror_mode": {
    "name": "ipython",
    "version": 3
   },
   "file_extension": ".py",
   "mimetype": "text/x-python",
   "name": "python",
   "nbconvert_exporter": "python",
   "pygments_lexer": "ipython3",
   "version": "3.13.5"
  }
 },
 "nbformat": 4,
 "nbformat_minor": 5
}
