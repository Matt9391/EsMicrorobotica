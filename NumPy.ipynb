{
 "cells": [
  {
   "cell_type": "markdown",
   "id": "0acf86cd-ebd9-47f9-b9ff-6f342602ebf7",
   "metadata": {},
   "source": [
    "# NumPy\n"
   ]
  },
  {
   "cell_type": "markdown",
   "id": "4f837389-6527-48a6-ba22-8d0d7407fbd6",
   "metadata": {},
   "source": [
    "Permette di scrivere codice python alla veloocità/prestazioni simili a C\n",
    "\n",
    "Molte librerie hanno al loro interno NumPy\n",
    "\n",
    "Librerie intelligenza artificiale hanno seguito stile NumPy:\n",
    "    \n",
    "- PyTorch\n",
    "- Jax\n",
    "- MLX\n",
    "\n",
    "Nate perché PyTorch agiva solo su CPU mentre le altre anche sul GPU"
   ]
  },
  {
   "cell_type": "code",
   "execution_count": 1,
   "id": "ce3aac37-4bb6-41b5-b753-42785132ef30",
   "metadata": {},
   "outputs": [],
   "source": [
    "import numpy as np"
   ]
  },
  {
   "cell_type": "markdown",
   "id": "acf4ce21-59d2-4bb2-9722-5531d99489b1",
   "metadata": {},
   "source": [
    "# Array in NumPy (`ndarray`)\n",
    "array molto simili a C"
   ]
  },
  {
   "cell_type": "code",
   "execution_count": 3,
   "id": "4b6bcd1c-4f59-46d6-b2ee-5032750b100c",
   "metadata": {},
   "outputs": [
    {
     "data": {
      "text/plain": [
       "array([0, 0, 0, 0, 0], dtype=int32)"
      ]
     },
     "execution_count": 3,
     "metadata": {},
     "output_type": "execute_result"
    }
   ],
   "source": [
    "#array di interi\n",
    "array_int = np.zeros(5, dtype = np.int32)\n",
    "array_int"
   ]
  },
  {
   "cell_type": "code",
   "execution_count": 4,
   "id": "f2405d7e-14da-4407-b168-6be6cff78ec5",
   "metadata": {},
   "outputs": [
    {
     "data": {
      "text/plain": [
       "array([0., 0., 0., 0., 0.])"
      ]
     },
     "execution_count": 4,
     "metadata": {},
     "output_type": "execute_result"
    }
   ],
   "source": [
    "array_float = np.zeros(5, dtype = np.float64)\n",
    "array_float                       "
   ]
  },
  {
   "cell_type": "code",
   "execution_count": 6,
   "id": "0c5ea3e2-50a1-4ce9-bdb7-3113ee4649bc",
   "metadata": {},
   "outputs": [
    {
     "data": {
      "text/plain": [
       "array([0.+0.j, 0.+0.j, 0.+0.j, 0.+0.j, 0.+0.j])"
      ]
     },
     "execution_count": 6,
     "metadata": {},
     "output_type": "execute_result"
    }
   ],
   "source": [
    "array_complex = np.zeros(5, dtype = np.complex128)\n",
    "array_complex"
   ]
  },
  {
   "cell_type": "code",
   "execution_count": 8,
   "id": "5b31866e-2c7b-41c3-a468-7b360adb30b1",
   "metadata": {},
   "outputs": [
    {
     "name": "stdout",
     "output_type": "stream",
     "text": [
      "int32\n",
      "float64\n",
      "complex128\n"
     ]
    }
   ],
   "source": [
    "print(array_int.dtype)\n",
    "print(array_float.dtype)\n",
    "print(array_complex.dtype)"
   ]
  },
  {
   "cell_type": "code",
   "execution_count": 11,
   "id": "c887e179-5533-434c-abfb-c25bd803804b",
   "metadata": {},
   "outputs": [
    {
     "data": {
      "text/plain": [
       "array([[0., 0., 0., 0., 0., 0., 0.],\n",
       "       [0., 0., 0., 0., 0., 0., 0.],\n",
       "       [0., 0., 0., 0., 0., 0., 0.],\n",
       "       [0., 0., 0., 0., 0., 0., 0.],\n",
       "       [0., 0., 0., 0., 0., 0., 0.]])"
      ]
     },
     "execution_count": 11,
     "metadata": {},
     "output_type": "execute_result"
    }
   ],
   "source": [
    "#Matrice di float\n",
    "matrix_float = np.zeros((5,7), dtype = np.float64)\n",
    "matrix_float"
   ]
  },
  {
   "cell_type": "code",
   "execution_count": 14,
   "id": "b9021b9a-55de-483b-b94e-bb29fc1d5e8d",
   "metadata": {},
   "outputs": [
    {
     "name": "stdout",
     "output_type": "stream",
     "text": [
      "20\n",
      "(5,)\n",
      "(5, 7)\n"
     ]
    }
   ],
   "source": [
    "#Memoria occupata\n",
    "print(array_int.nbytes)\n",
    "#shape usata nelle matrici\n",
    "print(array_int.shape)\n",
    "print(matrix_float.shape)"
   ]
  },
  {
   "cell_type": "markdown",
   "id": "68fbf764-6a9f-4dc6-b0ce-c257defaf14e",
   "metadata": {},
   "source": [
    "matrix.shape ti restituisce una *tupla*, shape[0] = righe | shape[1] = colonne\n"
   ]
  },
  {
   "cell_type": "code",
   "execution_count": 22,
   "id": "704fa48b-cca2-4a3a-8b24-0239d07087fb",
   "metadata": {},
   "outputs": [
    {
     "name": "stdout",
     "output_type": "stream",
     "text": [
      "[1 1 1 1 1]\n",
      "[1. 1. 1. 1. 1.]\n",
      "float64\n"
     ]
    }
   ],
   "source": [
    "#Broadcasting (aggiunge 1 a ogni elemento)\n",
    "array_int_new = array_int + 1\n",
    "print(array_int_new)\n",
    "array_int_new = array_int + 1. #fa la conversione in float\n",
    "print(array_int_new)\n",
    "print(array_int_new.dtype)"
   ]
  },
  {
   "cell_type": "code",
   "execution_count": 26,
   "id": "30492ae1-1436-4415-8959-1fa3d32fa292",
   "metadata": {},
   "outputs": [
    {
     "name": "stdout",
     "output_type": "stream",
     "text": [
      "[1 2]\n",
      "[ 3 -5]\n",
      "[ 4 -3]\n"
     ]
    }
   ],
   "source": [
    "v1 = np.array([1,2], dtype = np.int32)\n",
    "print(v1)\n",
    "v2 = np.array([3,-5])\n",
    "print(v2)\n",
    "print(v1 + v2)"
   ]
  },
  {
   "cell_type": "code",
   "execution_count": 33,
   "id": "2e832f12-18b4-45c0-8170-9a4370980a05",
   "metadata": {},
   "outputs": [
    {
     "name": "stdout",
     "output_type": "stream",
     "text": [
      "[0.99279086 0.01418033 0.56741005 ... 0.2016484  0.93425035 0.71983471]\n"
     ]
    }
   ],
   "source": [
    "# Uniform(a, b, shape) genera un array di dimensioni shape con valori pseudo casuale compresi tra a e b\n",
    "array_random = np.random.uniform(0, 1, (100000000))\n",
    "print(array_random)"
   ]
  },
  {
   "cell_type": "markdown",
   "id": "49172b0b-8abf-4e5e-a9b3-c9394fbbdae6",
   "metadata": {},
   "source": [
    "Numpy usa gli array come vettori e applica le regole dei vettori"
   ]
  },
  {
   "cell_type": "markdown",
   "id": "e8f625e1-2098-4c49-9f88-8349c8d52906",
   "metadata": {},
   "source": [
    "## Numeri pseudocasuali"
   ]
  },
  {
   "cell_type": "code",
   "execution_count": 4,
   "id": "e17c61dc-bd13-49cc-b2fc-3c20ce1b4b67",
   "metadata": {},
   "outputs": [
    {
     "data": {
      "text/plain": [
       "17"
      ]
     },
     "execution_count": 4,
     "metadata": {},
     "output_type": "execute_result"
    }
   ],
   "source": [
    "#numeri con stessa probabilità\n",
    "np.random.uniform(0, 1.)\n",
    "#numeri interi\n",
    "np.random.randint(0, 100)"
   ]
  },
  {
   "cell_type": "markdown",
   "id": "21bf787c-36d6-44db-af2e-de6f7b7cefb8",
   "metadata": {},
   "source": [
    "## Lancio di un dado\n",
    "Simuliamo `n` lanci di un dato da 6 facce"
   ]
  },
  {
   "cell_type": "code",
   "execution_count": 15,
   "id": "409ca450-062d-40f4-9e2e-7887f1398446",
   "metadata": {},
   "outputs": [
    {
     "name": "stdout",
     "output_type": "stream",
     "text": [
      "[4 1 6 6 2 2 5 2 1 1]\n",
      "[False False  True  True False False  True False False False]\n",
      "3\n"
     ]
    }
   ],
   "source": [
    "n = 10\n",
    "dice = np.random.randint(1,7,n)\n",
    "print(dice)\n",
    "win = (dice == 6) | (dice == 5)\n",
    "print(win)\n",
    "print(np.count_nonzero(win))"
   ]
  },
  {
   "cell_type": "markdown",
   "id": "0cbd91be-bac8-44b5-807c-e291ec134065",
   "metadata": {},
   "source": [
    "## 2 Persone lanciano i dadi chi fa la somma più alta vince"
   ]
  },
  {
   "cell_type": "code",
   "execution_count": 44,
   "id": "84162aea-85a0-416f-9d31-4d942dbbfa99",
   "metadata": {},
   "outputs": [
    {
     "name": "stdout",
     "output_type": "stream",
     "text": [
      "a vince su b 5 volte\n",
      "a pareggia con b 2 volte\n"
     ]
    }
   ],
   "source": [
    "n = 10\n",
    "a = np.random.randint(1,7, (2,n))\n",
    "b = np.random.randint(1,7, (2,n))\n",
    "#somma solo sull'asse 0 (somma righe)\n",
    "a = np.sum(a, axis = 0)\n",
    "b = np.sum(b, axis = 0)\n",
    "print(f\"a vince su b {np.count_nonzero(a > b)} volte\")\n",
    "print(f\"a pareggia con b {np.count_nonzero(a == b)} volte\")"
   ]
  },
  {
   "cell_type": "code",
   "execution_count": null,
   "id": "2f208a6d-94fc-47be-9cdf-cc78a5e99f5d",
   "metadata": {},
   "outputs": [],
   "source": [
    "n = 10\n",
    "a = np.random.randint(1,7, n) + np.random.randint(1,7, n)\n",
    "b = np.random.randint(1,7, n) + np.random.randint(1,7, n)\n",
    "print(f\"a vince su b {np.count_nonzero(a > b)} volte\")\n",
    "print(f\"a pareggia con b {np.count_nonzero(a == b)} volte\")"
   ]
  },
  {
   "cell_type": "code",
   "execution_count": 51,
   "id": "bd145620-5cac-4311-9d55-39c98f5d311b",
   "metadata": {},
   "outputs": [
    {
     "data": {
      "text/plain": [
       "(array([ 266.,  537.,  853., 1086., 1453., 1665., 1416., 1088.,  820.,\n",
       "         558.,  258.]),\n",
       " array([ 2.        ,  2.90909091,  3.81818182,  4.72727273,  5.63636364,\n",
       "         6.54545455,  7.45454545,  8.36363636,  9.27272727, 10.18181818,\n",
       "        11.09090909, 12.        ]),\n",
       " <BarContainer object of 11 artists>)"
      ]
     },
     "execution_count": 51,
     "metadata": {},
     "output_type": "execute_result"
    },
    {
     "data": {
      "image/png": "[encoded data removed]",
      "text/plain": [
       "<Figure size 640x480 with 1 Axes>"
      ]
     },
     "metadata": {},
     "output_type": "display_data"
    }
   ],
   "source": [
    "import matplotlib.pyplot as plt\n",
    "\n",
    "n = 10000\n",
    "a = np.random.randint(1,7, n) + np.random.randint(1,7, n)\n",
    "b = np.random.randint(1,7, n) + np.random.randint(1,7, n)\n",
    "\n",
    "plt.hist(a, bins=11)\n"
   ]
  },
  {
   "cell_type": "code",
   "execution_count": 53,
   "id": "6669d32a-9e54-49e1-97e6-91ab9783b4c8",
   "metadata": {},
   "outputs": [
    {
     "data": {
      "text/plain": [
       "array(['Croce', 'Testa', 'Croce', 'Croce', 'Croce'], dtype='<U5')"
      ]
     },
     "execution_count": 53,
     "metadata": {},
     "output_type": "execute_result"
    }
   ],
   "source": [
    "np.random.choice([\"Testa\", \"Croce\"], 5)"
   ]
  },
  {
   "cell_type": "code",
   "execution_count": 64,
   "id": "84db6b85-6657-4e49-88af-58be81c72ddd",
   "metadata": {},
   "outputs": [
    {
     "data": {
      "text/plain": [
       "array(['Testa', 'Croce', 'Croce', 'Testa', 'Testa'], dtype='<U5')"
      ]
     },
     "execution_count": 64,
     "metadata": {},
     "output_type": "execute_result"
    }
   ],
   "source": [
    "np.random.choice([\"Testa\", \"Croce\"], 5, p = [0.5, 0.5])"
   ]
  },
  {
   "cell_type": "code",
   "execution_count": null,
   "id": "87cdb0aa-c15e-4f29-8d3c-89ba139bf7f9",
   "metadata": {},
   "outputs": [],
   "source": []
  },
  {
   "cell_type": "code",
   "execution_count": null,
   "id": "baf2d952-5f81-47c7-8577-c227d5dcca79",
   "metadata": {},
   "outputs": [],
   "source": []
  }
 ],
 "metadata": {
  "kernelspec": {
   "display_name": "Python [conda env:base] *",
   "language": "python",
   "name": "conda-base-py"
  },
  "language_info": {
   "codemirror_mode": {
    "name": "ipython",
    "version": 3
   },
   "file_extension": ".py",
   "mimetype": "text/x-python",
   "name": "python",
   "nbconvert_exporter": "python",
   "pygments_lexer": "ipython3",
   "version": "3.13.5"
  }
 },
 "nbformat": 4,
 "nbformat_minor": 5
}
