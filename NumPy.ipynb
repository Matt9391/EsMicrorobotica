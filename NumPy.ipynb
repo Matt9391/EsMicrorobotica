{
 "cells": [
  {
   "cell_type": "markdown",
   "id": "0acf86cd-ebd9-47f9-b9ff-6f342602ebf7",
   "metadata": {},
   "source": [
    "# NumPy\n"
   ]
  },
  {
   "cell_type": "markdown",
   "id": "4f837389-6527-48a6-ba22-8d0d7407fbd6",
   "metadata": {},
   "source": [
    "Permette di scrivere codice python alla veloocità/prestazioni simili a C\n",
    "\n",
    "Molte librerie hanno al loro interno NumPy\n",
    "\n",
    "Librerie intelligenza artificiale hanno seguito stile NumPy:\n",
    "    \n",
    "- PyTorch\n",
    "- Jax\n",
    "- MLX\n",
    "\n",
    "Nate perché PyTorch agiva solo su CPU mentre le altre anche sul GPU"
   ]
  },
  {
   "cell_type": "code",
   "execution_count": 2,
   "id": "ce3aac37-4bb6-41b5-b753-42785132ef30",
   "metadata": {},
   "outputs": [],
   "source": [
    "import numpy as np"
   ]
  },
  {
   "cell_type": "markdown",
   "id": "acf4ce21-59d2-4bb2-9722-5531d99489b1",
   "metadata": {},
   "source": [
    "# Array in NumPy (`ndarray`)\n",
    "array molto simili a C"
   ]
  },
  {
   "cell_type": "code",
   "execution_count": 3,
   "id": "4b6bcd1c-4f59-46d6-b2ee-5032750b100c",
   "metadata": {},
   "outputs": [
    {
     "data": {
      "text/plain": [
       "array([0, 0, 0, 0, 0], dtype=int32)"
      ]
     },
     "execution_count": 3,
     "metadata": {},
     "output_type": "execute_result"
    }
   ],
   "source": [
    "#array di interi\n",
    "array_int = np.zeros(5, dtype = np.int32)\n",
    "array_int"
   ]
  },
  {
   "cell_type": "code",
   "execution_count": 4,
   "id": "f2405d7e-14da-4407-b168-6be6cff78ec5",
   "metadata": {},
   "outputs": [
    {
     "data": {
      "text/plain": [
       "array([0., 0., 0., 0., 0.])"
      ]
     },
     "execution_count": 4,
     "metadata": {},
     "output_type": "execute_result"
    }
   ],
   "source": [
    "array_float = np.zeros(5, dtype = np.float64)\n",
    "array_float                       "
   ]
  },
  {
   "cell_type": "code",
   "execution_count": 6,
   "id": "0c5ea3e2-50a1-4ce9-bdb7-3113ee4649bc",
   "metadata": {},
   "outputs": [
    {
     "data": {
      "text/plain": [
       "array([0.+0.j, 0.+0.j, 0.+0.j, 0.+0.j, 0.+0.j])"
      ]
     },
     "execution_count": 6,
     "metadata": {},
     "output_type": "execute_result"
    }
   ],
   "source": [
    "array_complex = np.zeros(5, dtype = np.complex128)\n",
    "array_complex"
   ]
  },
  {
   "cell_type": "code",
   "execution_count": 8,
   "id": "5b31866e-2c7b-41c3-a468-7b360adb30b1",
   "metadata": {},
   "outputs": [
    {
     "name": "stdout",
     "output_type": "stream",
     "text": [
      "int32\n",
      "float64\n",
      "complex128\n"
     ]
    }
   ],
   "source": [
    "print(array_int.dtype)\n",
    "print(array_float.dtype)\n",
    "print(array_complex.dtype)"
   ]
  },
  {
   "cell_type": "code",
   "execution_count": 11,
   "id": "c887e179-5533-434c-abfb-c25bd803804b",
   "metadata": {},
   "outputs": [
    {
     "data": {
      "text/plain": [
       "array([[0., 0., 0., 0., 0., 0., 0.],\n",
       "       [0., 0., 0., 0., 0., 0., 0.],\n",
       "       [0., 0., 0., 0., 0., 0., 0.],\n",
       "       [0., 0., 0., 0., 0., 0., 0.],\n",
       "       [0., 0., 0., 0., 0., 0., 0.]])"
      ]
     },
     "execution_count": 11,
     "metadata": {},
     "output_type": "execute_result"
    }
   ],
   "source": [
    "#Matrice di float\n",
    "matrix_float = np.zeros((5,7), dtype = np.float64)\n",
    "matrix_float"
   ]
  },
  {
   "cell_type": "code",
   "execution_count": 14,
   "id": "b9021b9a-55de-483b-b94e-bb29fc1d5e8d",
   "metadata": {},
   "outputs": [
    {
     "name": "stdout",
     "output_type": "stream",
     "text": [
      "20\n",
      "(5,)\n",
      "(5, 7)\n"
     ]
    }
   ],
   "source": [
    "#Memoria occupata\n",
    "print(array_int.nbytes)\n",
    "#shape usata nelle matrici\n",
    "print(array_int.shape)\n",
    "print(matrix_float.shape)"
   ]
  },
  {
   "cell_type": "markdown",
   "id": "68fbf764-6a9f-4dc6-b0ce-c257defaf14e",
   "metadata": {},
   "source": [
    "matrix.shape ti restituisce una *tupla*, shape[0] = righe | shape[1] = colonne\n"
   ]
  },
  {
   "cell_type": "code",
   "execution_count": 22,
   "id": "704fa48b-cca2-4a3a-8b24-0239d07087fb",
   "metadata": {},
   "outputs": [
    {
     "name": "stdout",
     "output_type": "stream",
     "text": [
      "[1 1 1 1 1]\n",
      "[1. 1. 1. 1. 1.]\n",
      "float64\n"
     ]
    }
   ],
   "source": [
    "#Broadcasting (aggiunge 1 a ogni elemento)\n",
    "array_int_new = array_int + 1\n",
    "print(array_int_new)\n",
    "array_int_new = array_int + 1. #fa la conversione in float\n",
    "print(array_int_new)\n",
    "print(array_int_new.dtype)"
   ]
  },
  {
   "cell_type": "code",
   "execution_count": 26,
   "id": "30492ae1-1436-4415-8959-1fa3d32fa292",
   "metadata": {},
   "outputs": [
    {
     "name": "stdout",
     "output_type": "stream",
     "text": [
      "[1 2]\n",
      "[ 3 -5]\n",
      "[ 4 -3]\n"
     ]
    }
   ],
   "source": [
    "v1 = np.array([1,2], dtype = np.int32)\n",
    "print(v1)\n",
    "v2 = np.array([3,-5])\n",
    "print(v2)\n",
    "print(v1 + v2)"
   ]
  },
  {
   "cell_type": "code",
   "execution_count": 33,
   "id": "2e832f12-18b4-45c0-8170-9a4370980a05",
   "metadata": {},
   "outputs": [
    {
     "name": "stdout",
     "output_type": "stream",
     "text": [
      "[0.99279086 0.01418033 0.56741005 ... 0.2016484  0.93425035 0.71983471]\n"
     ]
    }
   ],
   "source": [
    "# Uniform(a, b, shape) genera un array di dimensioni shape con valori pseudo casuale compresi tra a e b\n",
    "array_random = np.random.uniform(0, 1, (100000000))\n",
    "print(array_random)"
   ]
  },
  {
   "cell_type": "markdown",
   "id": "49172b0b-8abf-4e5e-a9b3-c9394fbbdae6",
   "metadata": {},
   "source": [
    "Numpy usa gli array come vettori e applica le regole dei vettori"
   ]
  },
  {
   "cell_type": "code",
   "execution_count": null,
   "id": "a4da3f7c-d65b-46f3-97ea-7d993560b3cb",
   "metadata": {},
   "outputs": [],
   "source": []
  }
 ],
 "metadata": {
  "kernelspec": {
   "display_name": "Python [conda env:base] *",
   "language": "python",
   "name": "conda-base-py"
  },
  "language_info": {
   "codemirror_mode": {
    "name": "ipython",
    "version": 3
   },
   "file_extension": ".py",
   "mimetype": "text/x-python",
   "name": "python",
   "nbconvert_exporter": "python",
   "pygments_lexer": "ipython3",
   "version": "3.13.5"
  }
 },
 "nbformat": 4,
 "nbformat_minor": 5
}
